{
 "cells": [
  {
   "cell_type": "markdown",
   "metadata": {},
   "source": [
    "# TradingAgents: Unrolled LangGraph Notebook\n",
    "\n",
    "This notebook demonstrates the TradingAgents multi-agent system with **unrolled graph execution**.\n",
    "\n",
    "Instead of using LangGraph's automatic execution, we manually execute each node step-by-step:\n",
    "- **Analyst nodes** (market, social, news, fundamentals)\n",
    "- **Research debate** (bull vs bear researchers)\n",
    "- **Trader node**\n",
    "- **Risk debate** (risky, safe, neutral analysts)\n",
    "- **Portfolio manager decision**\n",
    "\n",
    "This allows you to:\n",
    "- Run one node at a time\n",
    "- Inspect state between each step\n",
    "- Debug individual agents\n",
    "- Modify the flow manually"
   ]
  },
  {
   "cell_type": "markdown",
   "metadata": {},
   "source": [
    "## 1. Setup and Imports"
   ]
  },
  {
   "cell_type": "code",
   "execution_count": 1,
   "metadata": {},
   "outputs": [
    {
     "name": "stdout",
     "output_type": "stream",
     "text": [
      "✓ Imports successful\n"
     ]
    }
   ],
   "source": [
    "import os\n",
    "import sys\n",
    "from pathlib import Path\n",
    "from typing import Dict, Any\n",
    "from datetime import datetime\n",
    "\n",
    "# Add project root to path\n",
    "project_root = Path.cwd().parent\n",
    "if str(project_root) not in sys.path:\n",
    "    sys.path.insert(0, str(project_root))\n",
    "\n",
    "from langgraph.graph.state import _pick_mapper\n",
    "from langgraph.pregel._algo import _proc_input\n",
    "from langgraph.pregel._read import PregelNode\n",
    "from langgraph.graph import StateGraph\n",
    "\n",
    "from tradingagents.agents.utils.agent_states import AgentState, InvestDebateState, RiskDebateState\n",
    "from tradingagents.default_config import DEFAULT_CONFIG\n",
    "from tradingagents.graph.conditional_logic import ConditionalLogic\n",
    "\n",
    "print(\"✓ Imports successful\")"
   ]
  },
  {
   "cell_type": "markdown",
   "metadata": {},
   "source": [
    "## 2. Configure API Keys"
   ]
  },
  {
   "cell_type": "code",
   "execution_count": 2,
   "metadata": {},
   "outputs": [
    {
     "name": "stdout",
     "output_type": "stream",
     "text": [
      "✓ OpenAI API key found\n",
      "✓ Finnhub API key found\n"
     ]
    }
   ],
   "source": [
    "from getpass import getpass\n",
    "\n",
    "# Check OpenAI API key\n",
    "if not os.getenv(\"OPENAI_API_KEY\"):\n",
    "    os.environ[\"OPENAI_API_KEY\"] = getpass(\"🔑 Enter your OpenAI API key: \")\n",
    "else:\n",
    "    print(\"✓ OpenAI API key found\")\n",
    "\n",
    "# Check Finnhub API key\n",
    "if not os.getenv(\"FINNHUB_API_KEY\"):\n",
    "    os.environ[\"FINNHUB_API_KEY\"] = getpass(\"🔑 Enter your Finnhub API key: \")\n",
    "else:\n",
    "    print(\"✓ Finnhub API key found\")"
   ]
  },
  {
   "cell_type": "markdown",
   "metadata": {},
   "source": [
    "## 3. Create State Executor\n",
    "\n",
    "This class manages LangGraph state channels without automatic execution."
   ]
  },
  {
   "cell_type": "code",
   "execution_count": 3,
   "metadata": {},
   "outputs": [
    {
     "name": "stdout",
     "output_type": "stream",
     "text": [
      "✓ State executor created\n"
     ]
    }
   ],
   "source": [
    "class TradingAgentsExecutor:\n",
    "    \"\"\"Manual executor for TradingAgents graph using official LangGraph channels.\"\"\"\n",
    "    \n",
    "    def __init__(self):\n",
    "        # Create StateGraph to get official channels\n",
    "        temp_builder = StateGraph(AgentState)\n",
    "        temp_builder._add_schema(AgentState)\n",
    "        \n",
    "        # Get real channels from StateGraph\n",
    "        self.channels = temp_builder.channels.copy()\n",
    "        \n",
    "        # Initialize all channels\n",
    "        for channel in self.channels.values():\n",
    "            channel.update([])\n",
    "        \n",
    "        # Get official mapper for AgentState\n",
    "        state_keys = list(AgentState.__annotations__.keys())\n",
    "        self.mapper = _pick_mapper(state_keys, AgentState)\n",
    "        \n",
    "        # Create PregelNode wrappers\n",
    "        self.nodes = {}\n",
    "    \n",
    "    def register_node(self, node_name: str):\n",
    "        \"\"\"Register a node for execution.\"\"\"\n",
    "        state_keys = list(AgentState.__annotations__.keys())\n",
    "        self.nodes[node_name] = PregelNode(\n",
    "            tags=[node_name],\n",
    "            triggers=state_keys,\n",
    "            channels=state_keys,\n",
    "            writers=[],\n",
    "            mapper=self.mapper,\n",
    "            retry_policy=None,\n",
    "            cache_policy=None\n",
    "        )\n",
    "    \n",
    "    def create_node_input(self, node_name: str) -> Dict[str, Any]:\n",
    "        \"\"\"Create input for a specific node using official _proc_input.\"\"\"\n",
    "        if node_name not in self.nodes:\n",
    "            self.register_node(node_name)\n",
    "        \n",
    "        node = self.nodes[node_name]\n",
    "        return _proc_input(\n",
    "            proc=node,\n",
    "            managed={},\n",
    "            channels=self.channels,\n",
    "            for_execution=True,\n",
    "            scratchpad=None,\n",
    "            input_cache=None\n",
    "        )\n",
    "    \n",
    "    def update_state(self, node_output: Dict[str, Any]):\n",
    "        \"\"\"Update channels with node output.\"\"\"\n",
    "        if isinstance(node_output, dict):\n",
    "            for key, value in node_output.items():\n",
    "                if key in self.channels:\n",
    "                    channel = self.channels[key]\n",
    "                    channel_type = type(channel).__name__\n",
    "                    \n",
    "                    if channel_type == \"LastValue\":\n",
    "                        channel.update([value])\n",
    "                    elif channel_type == \"BinaryOperatorAggregate\":\n",
    "                        if isinstance(value, list):\n",
    "                            channel.update(value)\n",
    "                        else:\n",
    "                            channel.update([value])\n",
    "                    else:\n",
    "                        if isinstance(value, list):\n",
    "                            channel.update(value)\n",
    "                        else:\n",
    "                            channel.update([value])\n",
    "    \n",
    "    def get_state(self) -> Dict[str, Any]:\n",
    "        \"\"\"Get current state from all channels.\"\"\"\n",
    "        state = {}\n",
    "        for name, channel in self.channels.items():\n",
    "            if channel.is_available():\n",
    "                state[name] = channel.get()\n",
    "        return state\n",
    "\n",
    "# Create executor\n",
    "executor = TradingAgentsExecutor()\n",
    "print(\"✓ State executor created\")"
   ]
  },
  {
   "cell_type": "markdown",
   "metadata": {},
   "source": [
    "## 4. Initialize TradingAgents Components"
   ]
  },
  {
   "cell_type": "code",
   "execution_count": 4,
   "metadata": {},
   "outputs": [
    {
     "name": "stdout",
     "output_type": "stream",
     "text": [
      "✓ Components initialized\n"
     ]
    }
   ],
   "source": [
    "from tradingagents.agents.utils.agent_utils import Toolkit\n",
    "from tradingagents.agents.utils.memory import FinancialSituationMemory\n",
    "from tradingagents.dataflows.interface import set_config\n",
    "from langchain_openai import ChatOpenAI\n",
    "from langgraph.prebuilt import ToolNode\n",
    "\n",
    "# Configuration\n",
    "config = DEFAULT_CONFIG.copy()\n",
    "config[\"deep_think_llm\"] = \"o1-mini\"  # Cost-effective model\n",
    "config[\"quick_think_llm\"] = \"gpt-4o-mini\"\n",
    "config[\"max_debate_rounds\"] = 2\n",
    "config[\"max_risk_discuss_rounds\"] = 2\n",
    "config[\"online_tools\"] = True\n",
    "\n",
    "# Set global config for interface\n",
    "set_config(config)\n",
    "\n",
    "# Initialize LLMs\n",
    "quick_llm = ChatOpenAI(model=config[\"quick_think_llm\"], temperature=0)\n",
    "deep_llm = ChatOpenAI(model=config[\"deep_think_llm\"], temperature=1)\n",
    "\n",
    "# Initialize toolkit with config\n",
    "toolkit = Toolkit(config=config)\n",
    "\n",
    "# Initialize memories with config\n",
    "bull_memory = FinancialSituationMemory(\"bull_memory\", config)\n",
    "bear_memory = FinancialSituationMemory(\"bear_memory\", config)\n",
    "trader_memory = FinancialSituationMemory(\"trader_memory\", config)\n",
    "research_memory = FinancialSituationMemory(\"research_manager_memory\", config)\n",
    "risk_memory = FinancialSituationMemory(\"risk_manager_memory\", config)\n",
    "\n",
    "# Initialize conditional logic\n",
    "conditional_logic = ConditionalLogic(\n",
    "    max_debate_rounds=config[\"max_debate_rounds\"],\n",
    "    max_risk_discuss_rounds=config[\"max_risk_discuss_rounds\"]\n",
    ")\n",
    "\n",
    "print(\"✓ Components initialized\")"
   ]
  },
  {
   "cell_type": "markdown",
   "metadata": {},
   "source": [
    "## 5. Create Agent Nodes"
   ]
  },
  {
   "cell_type": "code",
   "execution_count": 5,
   "metadata": {},
   "outputs": [
    {
     "name": "stdout",
     "output_type": "stream",
     "text": [
      "✓ All agent nodes created\n"
     ]
    }
   ],
   "source": [
    "from tradingagents.agents import (\n",
    "    create_market_analyst,\n",
    "    create_social_media_analyst,\n",
    "    create_news_analyst,\n",
    "    create_fundamentals_analyst,\n",
    "    create_bull_researcher,\n",
    "    create_bear_researcher,\n",
    "    create_research_manager,\n",
    "    create_trader,\n",
    "    create_risky_debator,\n",
    "    create_neutral_debator,\n",
    "    create_safe_debator,\n",
    "    create_risk_manager\n",
    ")\n",
    "\n",
    "# Create analyst nodes\n",
    "market_analyst = create_market_analyst(quick_llm, toolkit)\n",
    "social_analyst = create_social_media_analyst(quick_llm, toolkit)\n",
    "news_analyst = create_news_analyst(quick_llm, toolkit)\n",
    "fundamentals_analyst = create_fundamentals_analyst(quick_llm, toolkit)\n",
    "\n",
    "# Create researcher nodes\n",
    "bull_researcher = create_bull_researcher(quick_llm, bull_memory)\n",
    "bear_researcher = create_bear_researcher(quick_llm, bear_memory)\n",
    "research_manager = create_research_manager(deep_llm, research_memory)\n",
    "\n",
    "# Create trader node\n",
    "trader = create_trader(quick_llm, trader_memory)\n",
    "\n",
    "# Create risk nodes\n",
    "risky_analyst = create_risky_debator(quick_llm)\n",
    "neutral_analyst = create_neutral_debator(quick_llm)\n",
    "safe_analyst = create_safe_debator(quick_llm)\n",
    "risk_manager = create_risk_manager(deep_llm, risk_memory)\n",
    "\n",
    "# Create tool nodes with toolkit methods\n",
    "market_tools = ToolNode([\n",
    "    toolkit.get_YFin_data_online,\n",
    "    toolkit.get_stockstats_indicators_report_online,\n",
    "    toolkit.get_YFin_data,\n",
    "    toolkit.get_stockstats_indicators_report,\n",
    "])\n",
    "\n",
    "social_tools = ToolNode([\n",
    "    toolkit.get_stock_news_openai,\n",
    "    toolkit.get_reddit_stock_info,\n",
    "])\n",
    "\n",
    "news_tools = ToolNode([\n",
    "    toolkit.get_global_news_openai,\n",
    "    toolkit.get_google_news,\n",
    "    toolkit.get_finnhub_news,\n",
    "    toolkit.get_reddit_news,\n",
    "])\n",
    "\n",
    "fundamentals_tools = ToolNode([\n",
    "    toolkit.get_fundamentals_openai,\n",
    "    toolkit.get_finnhub_company_insider_sentiment,\n",
    "    toolkit.get_finnhub_company_insider_transactions,\n",
    "    toolkit.get_simfin_balance_sheet,\n",
    "    toolkit.get_simfin_cashflow,\n",
    "    toolkit.get_simfin_income_stmt,\n",
    "])\n",
    "\n",
    "print(\"✓ All agent nodes created\")"
   ]
  },
  {
   "cell_type": "markdown",
   "metadata": {},
   "source": [
    "## 6. Initialize State\n",
    "\n",
    "Set the ticker and date for analysis."
   ]
  },
  {
   "cell_type": "code",
   "execution_count": 6,
   "metadata": {},
   "outputs": [
    {
     "name": "stdout",
     "output_type": "stream",
     "text": [
      "✓ State initialized for NVDA on 2024-05-10\n"
     ]
    }
   ],
   "source": [
    "# Set analysis parameters\n",
    "TICKER = \"NVDA\"\n",
    "DATE = \"2024-05-10\"\n",
    "\n",
    "# Initialize state\n",
    "initial_state = {\n",
    "    \"company_of_interest\": TICKER,\n",
    "    \"trade_date\": DATE,\n",
    "    \"messages\": [],\n",
    "    \"sender\": \"user\",\n",
    "    \"market_report\": \"\",\n",
    "    \"sentiment_report\": \"\",\n",
    "    \"news_report\": \"\",\n",
    "    \"fundamentals_report\": \"\",\n",
    "    \"investment_debate_state\": {\n",
    "        \"bull_history\": \"\",\n",
    "        \"bear_history\": \"\",\n",
    "        \"history\": \"\",\n",
    "        \"current_response\": \"\",\n",
    "        \"judge_decision\": \"\",\n",
    "        \"count\": 0\n",
    "    },\n",
    "    \"investment_plan\": \"\",\n",
    "    \"trader_investment_plan\": \"\",\n",
    "    \"risk_debate_state\": {\n",
    "        \"risky_history\": \"\",\n",
    "        \"safe_history\": \"\",\n",
    "        \"neutral_history\": \"\",\n",
    "        \"history\": \"\",\n",
    "        \"latest_speaker\": \"\",\n",
    "        \"current_risky_response\": \"\",\n",
    "        \"current_safe_response\": \"\",\n",
    "        \"current_neutral_response\": \"\",\n",
    "        \"judge_decision\": \"\",\n",
    "        \"count\": 0\n",
    "    },\n",
    "    \"final_trade_decision\": \"\"\n",
    "}\n",
    "\n",
    "# Update executor state\n",
    "executor.update_state(initial_state)\n",
    "\n",
    "print(f\"✓ State initialized for {TICKER} on {DATE}\")"
   ]
  },
  {
   "cell_type": "markdown",
   "metadata": {},
   "source": [
    "## 7. Execute Analyst Nodes\n",
    "\n",
    "### Helper Function for Tool Execution"
   ]
  },
  {
   "cell_type": "code",
   "execution_count": 7,
   "metadata": {},
   "outputs": [
    {
     "name": "stdout",
     "output_type": "stream",
     "text": [
      "✓ Helper function defined\n"
     ]
    }
   ],
   "source": [
    "def run_analyst_with_tools(analyst_name, analyst_func, tool_node, executor):\n",
    "    \"\"\"\n",
    "    Run an analyst node with tool execution loop.\n",
    "    \n",
    "    This handles:\n",
    "    1. Running the analyst\n",
    "    2. Executing any tool calls\n",
    "    3. Running the analyst again with tool results\n",
    "    4. Clearing messages after completion\n",
    "    \"\"\"\n",
    "    from langchain_core.messages import RemoveMessage, HumanMessage\n",
    "    \n",
    "    # Get current state\n",
    "    state = executor.create_node_input(analyst_name)\n",
    "    print(f\"Running {analyst_name.replace('_', ' ').title()}...\")\n",
    "    \n",
    "    # Execute analyst\n",
    "    result = analyst_func(state)\n",
    "    executor.update_state(result)\n",
    "    \n",
    "    # Check if tools need to be called\n",
    "    current_state = executor.get_state()\n",
    "    if current_state['messages'] and hasattr(current_state['messages'][-1], 'tool_calls'):\n",
    "        if current_state['messages'][-1].tool_calls:\n",
    "            print(f\"  → Calling {analyst_name} tools...\")\n",
    "            tool_result = tool_node.invoke(current_state)\n",
    "            executor.update_state(tool_result)\n",
    "            \n",
    "            # Run analyst again with tool results\n",
    "            state = executor.create_node_input(analyst_name)\n",
    "            result = analyst_func(state)\n",
    "            executor.update_state(result)\n",
    "    \n",
    "    # Clear messages (simulating msg_delete node)\n",
    "    current_state = executor.get_state()\n",
    "    if current_state['messages']:\n",
    "        messages = current_state['messages']\n",
    "        removal_operations = [RemoveMessage(id=m.id) for m in messages]\n",
    "        placeholder = HumanMessage(content=\"Continue\")\n",
    "        executor.update_state({\"messages\": removal_operations + [placeholder]})\n",
    "    \n",
    "    return executor.get_state()\n",
    "\n",
    "print(\"✓ Helper function defined\")"
   ]
  },
  {
   "cell_type": "markdown",
   "metadata": {},
   "source": [
    "### 7.1 Market Analyst"
   ]
  },
  {
   "cell_type": "code",
   "execution_count": 8,
   "metadata": {},
   "outputs": [
    {
     "name": "stdout",
     "output_type": "stream",
     "text": [
      "Running Market Analyst...\n",
      "  → Calling market_analyst tools...\n",
      "\n",
      "============================================================\n",
      "MARKET ANALYST REPORT\n",
      "============================================================\n",
      "\n",
      "============================================================\n"
     ]
    }
   ],
   "source": [
    "state = run_analyst_with_tools(\"market_analyst\", market_analyst, market_tools, executor)\n",
    "\n",
    "print(\"\\n\" + \"=\"*60)\n",
    "print(\"MARKET ANALYST REPORT\")\n",
    "print(\"=\"*60)\n",
    "print(state.get('market_report', 'No report generated'))\n",
    "print(\"=\"*60)"
   ]
  },
  {
   "cell_type": "markdown",
   "metadata": {},
   "source": [
    "### 7.2 Social Media Analyst"
   ]
  },
  {
   "cell_type": "code",
   "execution_count": 9,
   "metadata": {},
   "outputs": [
    {
     "name": "stdout",
     "output_type": "stream",
     "text": [
      "Running Social Analyst...\n",
      "  → Calling social_analyst tools...\n",
      "\n",
      "============================================================\n",
      "SOCIAL MEDIA ANALYST REPORT\n",
      "============================================================\n",
      "### Comprehensive Analysis of NVIDIA Corporation (NVDA) - May 2024\n",
      "\n",
      "#### Overview\n",
      "NVIDIA Corporation (NVDA) has been a focal point in the stock market and social media discussions over the past week, primarily driven by its stock performance and significant financial announcements. This report synthesizes recent news, social media sentiment, and stock market activity to provide insights for traders and investors.\n",
      "\n",
      "#### Stock Performance\n",
      "- **Current Price**: As of May 10, 2024, NVDA's stock is priced at **$188.44**, with a slight decrease of **$0.45** (-0.00%) from the previous close.\n",
      "- **Price Movement**: The stock has shown notable fluctuations, closing at **$86.37** on April 30, 2024, and rising to **$90.52** by May 7, 2024. This upward trend continued, with the stock closing at **$88.72** on May 9, 2024, before stabilizing around the current price.\n",
      "- **Trading Volume**: The intraday volume on May 10 was approximately **60,748,909**, indicating high trading activity.\n",
      "\n",
      "#### Recent News Highlights\n",
      "1. **Stock Performance and Market Activity**:\n",
      "   - NVDA has been among the most active equity options, reflecting significant investor interest. Reports indicated that NVDA led a rally among chipmakers, with major tech companies like Meta and Microsoft reaffirming their aggressive investment plans in AI, positively impacting NVDA's stock performance.\n",
      "   \n",
      "2. **Social Media Buzz**:\n",
      "   - Discussions on platforms like Twitter highlighted significant profits from NVDA trades, with one trader reportedly making **$2.5 million** over 183 days, which sparked considerable interest and excitement among retail investors.\n",
      "   - The Twitter account \"Nancy Pelosi Stock Tracker\" noted a **110% return** on NVDA trades, further fueling discussions and speculation about the stock's potential.\n",
      "\n",
      "3. **Investor Sentiment**:\n",
      "   - A video discussing NVDA's stock forecast for 2024-2025 circulated within investment communities, indicating ongoing interest in the company's future performance and strategic direction.\n",
      "\n",
      "4. **Strategic Moves**:\n",
      "   - A trade alert on May 6 recommended taking profits by selling NVDA options, suggesting a strategic response to market conditions and potential volatility.\n",
      "\n",
      "#### Social Media Sentiment\n",
      "While specific social media posts from the past week were not available, the overall sentiment appears to be positive, driven by:\n",
      "- **Profitability**: Many traders are sharing their success stories related to NVDA, which enhances the stock's appeal.\n",
      "- **Market Position**: NVDA's leadership in the AI and semiconductor sectors continues to attract attention, with many investors optimistic about its growth potential.\n",
      "\n",
      "#### Implications for Traders and Investors\n",
      "- **Short-Term Trading**: Given the high trading volume and recent price fluctuations, short-term traders may find opportunities to capitalize on volatility. The recommendation to take profits on options suggests caution, as the market may experience corrections.\n",
      "- **Long-Term Investment**: For long-term investors, NVDA's strong position in AI and technology sectors, coupled with positive market sentiment, may present a compelling investment opportunity. However, monitoring market conditions and potential corrections is advisable.\n",
      "\n",
      "### Conclusion\n",
      "NVIDIA Corporation (NVDA) is currently experiencing a dynamic phase characterized by significant stock activity and positive social media sentiment. Investors should weigh the potential for short-term gains against the backdrop of long-term growth prospects in the technology sector.\n",
      "\n",
      "| Key Points                          | Details                                                                 |\n",
      "|-------------------------------------|-------------------------------------------------------------------------|\n",
      "| **Current Price**                   | $188.44                                                                 |\n",
      "| **Recent High**                     | $90.52 (May 7, 2024)                                                   |\n",
      "| **Recent Low**                      | $86.37 (April 30, 2024)                                               |\n",
      "| **Trading Volume**                  | 60,748,909 (May 10, 2024)                                             |\n",
      "| **Social Media Sentiment**          | Positive, with significant profit stories shared                       |\n",
      "| **Market Activity**                 | Among the most active equity options; led rally among chipmakers       |\n",
      "| **Investor Recommendations**         | Caution advised for short-term trading; potential for long-term growth  |\n",
      "\n",
      "### FINAL TRANSACTION PROPOSAL: **HOLD**\n",
      "Given the current market conditions and sentiment, holding NVDA may be the most prudent strategy while monitoring for any significant changes in market dynamics.\n",
      "============================================================\n"
     ]
    }
   ],
   "source": [
    "state = run_analyst_with_tools(\"social_analyst\", social_analyst, social_tools, executor)\n",
    "\n",
    "print(\"\\n\" + \"=\"*60)\n",
    "print(\"SOCIAL MEDIA ANALYST REPORT\")\n",
    "print(\"=\"*60)\n",
    "print(state.get('sentiment_report', 'No report generated'))\n",
    "print(\"=\"*60)"
   ]
  },
  {
   "cell_type": "markdown",
   "metadata": {},
   "source": [
    "### 7.3 News Analyst"
   ]
  },
  {
   "cell_type": "code",
   "execution_count": 10,
   "metadata": {},
   "outputs": [
    {
     "name": "stdout",
     "output_type": "stream",
     "text": [
      "Running News Analyst...\n",
      "  → Calling news_analyst tools...\n",
      "\n",
      "============================================================\n",
      "NEWS ANALYST REPORT\n",
      "============================================================\n",
      "### Current State of the World Relevant for Trading and Macroeconomics (May 10, 2024)\n",
      "\n",
      "#### Macroeconomic Developments\n",
      "\n",
      "1. **U.S. Labor Market Data (May 3, 2024)**:\n",
      "   - The U.S. Department of Labor reported that 175,000 jobs were added in April, significantly below the expected 243,000. This indicates a cooling labor market, which may influence the Federal Reserve's monetary policy decisions moving forward. Wage growth was also lower than anticipated, and the unemployment rate increased slightly.\n",
      "\n",
      "2. **U.S. Stock Market Performance**:\n",
      "   - Following the labor market report, U.S. equities saw a rally, with the S&P 500 Index reaching a one-month high. The weaker job data has led to speculation about potential Federal Reserve rate cuts, particularly benefiting sectors like real estate and energy.\n",
      "\n",
      "3. **Crude Oil Inventory Report**:\n",
      "   - The Energy Information Administration (EIA) reported a decrease of 1.4 million barrels in U.S. crude oil inventories for the week ending May 3. This aligns with market expectations and could influence oil prices positively.\n",
      "\n",
      "4. **U.S. Treasury Market Movements**:\n",
      "   - Treasury yields have declined as investors reacted to rising jobless claims, indicating a loosening labor market. This trend, along with a strong 30-year auction, has contributed to a rally in U.S. Treasuries.\n",
      "\n",
      "5. **U.S. Dollar Weakness**:\n",
      "   - The U.S. dollar has weakened against major currencies, driven by the increase in jobless claims and expectations of potential Federal Reserve rate cuts. The British pound and euro have remained stable or strengthened, reflecting diverging monetary policy outlooks.\n",
      "\n",
      "#### NVIDIA (NVDA) Recent News\n",
      "\n",
      "1. **Strategic Developments**:\n",
      "   - NVIDIA is set to release its next-generation AI chip, the R100, utilizing TSMC's 3nm process technology, expected to enhance processing power and efficiency significantly. This chip is anticipated to be available by Q4 2025.\n",
      "\n",
      "2. **Market Position**:\n",
      "   - NVIDIA has become the world's largest fabless chip designer by revenue, largely due to the AI boom, with a reported doubling of revenue in 2023. Analysts predict a further 22% upside for NVIDIA stock, suggesting it remains undervalued compared to peers.\n",
      "\n",
      "3. **Supply Chain Improvements**:\n",
      "   - The shortage of NVIDIA GPUs is easing, allowing for increased shipments in the AI server supply chain. This could alleviate some supply constraints that have affected the market.\n",
      "\n",
      "4. **Investments and Collaborations**:\n",
      "   - NVIDIA has invested in several startups, including Wayve, which focuses on autonomous vehicle technology, raising $1 billion in funding. This positions NVIDIA as a key player in the growing autonomous driving sector.\n",
      "\n",
      "5. **Technological Innovations**:\n",
      "   - NVIDIA has released new drivers for its GPUs, enhancing performance for popular games and applications. The company continues to innovate in AI and gaming technologies, maintaining its competitive edge.\n",
      "\n",
      "6. **Legal Challenges**:\n",
      "   - NVIDIA and Databricks are facing class-action lawsuits related to alleged copyright infringement in AI model development, which could pose risks to their operations and reputation.\n",
      "\n",
      "### Summary Table of Key Points\n",
      "\n",
      "| Date       | Event/News                                      | Impact/Insight                                                                 |\n",
      "|------------|-------------------------------------------------|--------------------------------------------------------------------------------|\n",
      "| May 3, 2024 | U.S. Labor Market Data                          | Weaker job growth may lead to Federal Reserve rate cuts, impacting markets.    |\n",
      "| May 3, 2024 | U.S. Stock Market Performance                   | S&P 500 rally due to rate cut speculation; real estate and energy sectors benefit. |\n",
      "| May 3, 2024 | Crude Oil Inventory Report                      | Decrease in inventories may support oil prices.                               |\n",
      "| May 3, 2024 | U.S. Treasury Market Movements                  | Declining yields indicate investor caution; potential for further rate cuts.   |\n",
      "| May 3, 2024 | U.S. Dollar Weakness                            | Weaker dollar reflects diverging monetary policies; impacts international trade. |\n",
      "| May 10, 2024 | NVIDIA R100 AI Chip Announcement                | Expected to enhance processing power; significant for AI applications.          |\n",
      "| May 10, 2024 | NVIDIA Market Position                          | Largest fabless chip designer; 22% upside potential indicates strong growth.   |\n",
      "| May 10, 2024 | Supply Chain Improvements                       | Easing GPU shortages may boost NVIDIA's market position.                       |\n",
      "| May 10, 2024 | Investments in Startups                         | Strategic investments in autonomous tech position NVIDIA for future growth.    |\n",
      "| May 10, 2024 | Legal Challenges                                | Class-action lawsuits could pose risks to NVIDIA's operations.                 |\n",
      "\n",
      "This comprehensive analysis highlights the current macroeconomic environment and specific developments related to NVIDIA, providing valuable insights for traders and investors.\n",
      "============================================================\n"
     ]
    }
   ],
   "source": [
    "state = run_analyst_with_tools(\"news_analyst\", news_analyst, news_tools, executor)\n",
    "\n",
    "print(\"\\n\" + \"=\"*60)\n",
    "print(\"NEWS ANALYST REPORT\")\n",
    "print(\"=\"*60)\n",
    "print(state.get('news_report', 'No report generated'))\n",
    "print(\"=\"*60)"
   ]
  },
  {
   "cell_type": "markdown",
   "metadata": {},
   "source": [
    "### 7.4 Fundamentals Analyst"
   ]
  },
  {
   "cell_type": "code",
   "execution_count": 11,
   "metadata": {},
   "outputs": [
    {
     "name": "stdout",
     "output_type": "stream",
     "text": [
      "Running Fundamentals Analyst...\n",
      "  → Calling fundamentals_analyst tools...\n",
      "\n",
      "============================================================\n",
      "FUNDAMENTALS ANALYST REPORT\n",
      "============================================================\n",
      "It seems that I was unable to retrieve the latest fundamental information for NVIDIA Corporation (NVDA) specifically for the week leading up to May 10, 2024. However, I can provide a summary based on the latest available data and general insights into NVIDIA's financial health and market position.\n",
      "\n",
      "### NVIDIA Corporation (NVDA) Overview\n",
      "\n",
      "**Company Profile:**\n",
      "- **Industry:** Semiconductors\n",
      "- **Headquarters:** Santa Clara, California, USA\n",
      "- **Founded:** 1993\n",
      "- **CEO:** Jensen Huang\n",
      "- **Core Business:** NVIDIA is a leading designer of graphics processing units (GPUs) for gaming and professional markets, as well as system on a chip units (SoCs) for the mobile computing and automotive market.\n",
      "\n",
      "### Recent Financial Metrics (as of October 3, 2025)\n",
      "- **Current Stock Price:** $188.185\n",
      "- **Change:** -$0.70 (-0.00%)\n",
      "- **Open Price:** $189.20\n",
      "- **Intraday Volume:** 61,704,306 shares\n",
      "- **Intraday High:** $190.34\n",
      "- **Intraday Low:** $188.17\n",
      "\n",
      "### Financial Performance\n",
      "- **Revenue Growth:** NVIDIA has consistently reported strong revenue growth, driven by demand for its GPUs in gaming, data centers, and AI applications.\n",
      "- **Profit Margins:** The company typically enjoys high gross margins, often exceeding 60%, due to its premium product offerings and strong brand loyalty.\n",
      "- **Earnings Reports:** In recent quarters, NVIDIA has reported earnings that beat analyst expectations, reflecting robust demand in its core markets.\n",
      "\n",
      "### Insider Sentiment and Transactions\n",
      "- **Insider Transactions:** Monitoring insider buying and selling can provide insights into the company's future prospects. If insiders are buying shares, it may indicate confidence in the company's future performance. Conversely, significant selling could raise concerns.\n",
      "- **Sentiment:** Generally, insider sentiment has been positive, with key executives holding substantial shares in the company.\n",
      "\n",
      "### Market Position and Competitive Landscape\n",
      "- **Competitors:** NVIDIA faces competition from companies like AMD and Intel in the GPU market, but it maintains a strong lead in high-performance computing and AI applications.\n",
      "- **Market Trends:** The increasing adoption of AI and machine learning technologies is expected to drive further demand for NVIDIA's products, particularly in data centers and cloud computing.\n",
      "\n",
      "### Conclusion\n",
      "NVIDIA remains a strong player in the semiconductor industry, with solid financial performance and a positive outlook driven by trends in AI and gaming. However, investors should keep an eye on market conditions, competitive pressures, and insider trading activities to make informed decisions.\n",
      "\n",
      "### Key Financial Metrics Summary\n",
      "\n",
      "| Metric                     | Value                |\n",
      "|----------------------------|----------------------|\n",
      "| Current Stock Price        | $188.185             |\n",
      "| Change                     | -$0.70 (-0.00%)      |\n",
      "| Open Price                 | $189.20              |\n",
      "| Intraday Volume            | 61,704,306 shares     |\n",
      "| Intraday High              | $190.34              |\n",
      "| Intraday Low               | $188.17              |\n",
      "| Revenue Growth              | Strong               |\n",
      "| Profit Margins             | >60%                 |\n",
      "| Insider Sentiment           | Generally Positive    |\n",
      "\n",
      "This report provides a comprehensive overview of NVIDIA's current financial standing and market position. For the most accurate and timely information, continuous monitoring of financial news and reports is recommended.\n",
      "============================================================\n"
     ]
    }
   ],
   "source": [
    "state = run_analyst_with_tools(\"fundamentals_analyst\", fundamentals_analyst, fundamentals_tools, executor)\n",
    "\n",
    "print(\"\\n\" + \"=\"*60)\n",
    "print(\"FUNDAMENTALS ANALYST REPORT\")\n",
    "print(\"=\"*60)\n",
    "print(state.get('fundamentals_report', 'No report generated'))\n",
    "print(\"=\"*60)"
   ]
  },
  {
   "cell_type": "markdown",
   "metadata": {},
   "source": [
    "## 9. Research Manager Decision"
   ]
  },
  {
   "cell_type": "code",
   "execution_count": 12,
   "metadata": {},
   "outputs": [
    {
     "name": "stdout",
     "output_type": "stream",
     "text": [
      "Running Research Manager...\n",
      "\n",
      "============================================================\n",
      "RESEARCH MANAGER SYNTHESIS\n",
      "============================================================\n",
      "It looks like the sections for your past reflections on mistakes and the debate history are currently empty. To provide a comprehensive evaluation and develop a detailed investment plan, I need the following information:\n",
      "\n",
      "1. **Past Reflections on Mistakes:** Insights or lessons you've learned from previous investment decisions that didn't go as planned. This helps in refining the decision-making process.\n",
      "\n",
      "2. **Debate History:** Details of the recent debate between the bear and bull analysts, including their main arguments, evidence presented, and any supporting data.\n",
      "\n",
      "Could you please provide these details? Once I have that information, I can effectively summarize the key points, make a clear recommendation, and develop a strategic investment plan tailored to your needs.\n",
      "============================================================\n"
     ]
    }
   ],
   "source": [
    "state = executor.create_node_input(\"research_manager\")\n",
    "print(\"Running Research Manager...\\n\")\n",
    "\n",
    "result = research_manager(state)\n",
    "executor.update_state(result)\n",
    "\n",
    "current_state = executor.get_state()\n",
    "print(\"=\"*60)\n",
    "print(\"RESEARCH MANAGER SYNTHESIS\")\n",
    "print(\"=\"*60)\n",
    "print(current_state.get('investment_plan', 'No plan generated'))\n",
    "print(\"=\"*60)"
   ]
  },
  {
   "cell_type": "markdown",
   "metadata": {},
   "source": [
    "## 10. Trader Investment Plan"
   ]
  },
  {
   "cell_type": "code",
   "execution_count": 13,
   "metadata": {},
   "outputs": [
    {
     "name": "stdout",
     "output_type": "stream",
     "text": [
      "Running Trader...\n",
      "\n",
      "============================================================\n",
      "TRADER INVESTMENT PLAN\n",
      "============================================================\n",
      "Based on the proposed investment plan for NVDA, I will analyze the current market conditions, technical indicators, macroeconomic factors, and social media sentiment to formulate a recommendation.\n",
      "\n",
      "1. **Technical Market Trends:** NVDA has shown a strong upward trend in its stock price, supported by robust earnings reports and positive guidance. Key technical indicators, such as moving averages and RSI, suggest that the stock is in a bullish phase, although it may be approaching overbought territory.\n",
      "\n",
      "2. **Macroeconomic Indicators:** The semiconductor industry is experiencing growth due to increased demand for AI and machine learning technologies. However, potential headwinds include supply chain disruptions and inflationary pressures that could impact margins.\n",
      "\n",
      "3. **Social Media Sentiment:** Sentiment analysis indicates a predominantly positive outlook among retail investors, with many expressing confidence in NVDA's long-term growth potential. However, there are some bearish sentiments regarding potential market corrections.\n",
      "\n",
      "Given these factors, the recommendation is to **buy** NVDA. The strong technical indicators and positive macroeconomic outlook outweigh the potential risks, and the current sentiment supports a bullish position.\n",
      "\n",
      "FINAL TRANSACTION PROPOSAL: **BUY**\n",
      "============================================================\n"
     ]
    }
   ],
   "source": [
    "state = executor.create_node_input(\"trader\")\n",
    "print(\"Running Trader...\\n\")\n",
    "\n",
    "result = trader(state)\n",
    "executor.update_state(result)\n",
    "\n",
    "current_state = executor.get_state()\n",
    "print(\"=\"*60)\n",
    "print(\"TRADER INVESTMENT PLAN\")\n",
    "print(\"=\"*60)\n",
    "print(current_state.get('trader_investment_plan', 'No plan generated'))\n",
    "print(\"=\"*60)"
   ]
  },
  {
   "cell_type": "markdown",
   "metadata": {},
   "source": [
    "## 11. Execute Risk Debate\n",
    "\n",
    "Risky, Safe, and Neutral analysts debate risk levels."
   ]
  },
  {
   "cell_type": "code",
   "execution_count": 14,
   "metadata": {},
   "outputs": [
    {
     "name": "stdout",
     "output_type": "stream",
     "text": [
      "Starting Risk Analysis Debate...\n",
      "\n",
      "\n",
      "============================================================\n",
      "RISK ROUND 1: RISKY ANALYST\n",
      "============================================================\n",
      "Risky Analyst: Let's dive into the arguments presented by the conservative and neutral analysts regarding the NVDA investment decision. \n",
      "\n",
      "First, the conservative analyst often emphasizes caution, particularly around the potential for market corrections and the risks associated with supply chain disruptions and inflationary pressures. While these concerns are valid, they can also lead to missed opportunities. The semiconductor industry is not just recovering; it is on the brink of a transformative boom driven by AI and machine learning. NVDA is at the forefront of this revolution, and the demand for its products is only expected to grow. The recent announcement of the R100 AI chip, which utilizes cutting-edge 3nm technology, is a game-changer. This innovation positions NVDA to capture significant market share and revenue growth, far outweighing the risks posed by temporary supply chain issues.\n",
      "\n",
      "Moreover, the conservative stance often overlooks the broader macroeconomic context. The recent labor market data suggests a cooling economy, which could lead to Federal Reserve rate cuts. Lower interest rates typically benefit growth stocks like NVDA, as they make borrowing cheaper and can stimulate investment in technology. This is a crucial point that the conservative analyst may be missing: the potential for a favorable macroeconomic environment that could propel NVDA's stock even higher.\n",
      "\n",
      "Now, addressing the neutral analyst's perspective, which leans towards a \"hold\" recommendation, I would argue that this approach is overly cautious. While holding may seem prudent in uncertain times, it also means potentially missing out on substantial gains. The current market sentiment is overwhelmingly positive, with retail investors buzzing about NVDA's growth potential. The high trading volume indicates strong interest and confidence in the stock, which is a clear signal that now is the time to act rather than wait on the sidelines.\n",
      "\n",
      "The neutral analyst also mentions the potential for short-term volatility and suggests taking profits on options. However, this short-term focus can be detrimental to long-term wealth accumulation. NVDA's fundamentals are strong, and its position in the AI sector is only going to strengthen. By buying now, investors can capitalize on the anticipated growth trajectory rather than risk being left behind as the stock continues to rise.\n",
      "\n",
      "In summary, while the conservative and neutral analysts present valid points, their caution may lead to missed opportunities in a rapidly evolving market. The potential upside of investing in NVDA far outweighs the risks, especially given the company's innovative edge and the favorable macroeconomic conditions on the horizon. Embracing a high-reward, high-risk strategy is not just about taking chances; it's about positioning oneself to benefit from the transformative changes in the technology landscape. Now is the time to buy NVDA and ride the wave of growth that is set to unfold.\n",
      "\n",
      "============================================================\n",
      "RISK ROUND 2: SAFE ANALYST\n",
      "============================================================\n",
      "Safe Analyst: I appreciate the enthusiasm for NVDA and the arguments presented by the Risky Analyst, but I must emphasize that a conservative approach is essential for safeguarding our assets and ensuring long-term stability. \n",
      "\n",
      "First, while the semiconductor industry is indeed experiencing growth, the assertion that NVDA is at the forefront of a transformative boom driven by AI and machine learning overlooks the inherent volatility of such markets. The rapid pace of technological advancement can lead to significant shifts in market dynamics, and companies that seem poised for success today can quickly find themselves facing fierce competition or obsolescence tomorrow. The recent announcement of the R100 AI chip may be exciting, but it also comes with the risk of execution challenges and potential delays, which could negatively impact investor sentiment and stock performance.\n",
      "\n",
      "Moreover, the optimistic view on macroeconomic conditions, particularly the expectation of Federal Reserve rate cuts, is not as straightforward as it seems. While lower interest rates can benefit growth stocks, they can also signal underlying economic weakness. The cooling labor market data suggests that consumer spending may decline, which could adversely affect demand for NVDA's products. If the economy continues to slow, the anticipated growth in the semiconductor sector may not materialize as expected, leading to disappointing earnings and stock price corrections.\n",
      "\n",
      "The high trading volume and positive social media sentiment are indeed indicators of interest, but they can also be signs of speculative behavior. Retail investors often react emotionally to market trends, and this can lead to sharp price fluctuations. The potential for a market correction, especially in a high-flying stock like NVDA, is a real concern. The excitement surrounding the stock could quickly turn into panic selling if negative news or broader market declines occur.\n",
      "\n",
      "Additionally, the focus on short-term gains, as highlighted by the neutral analyst, can be detrimental to long-term wealth accumulation. A conservative strategy prioritizes stability and risk mitigation, which is crucial in uncertain times. Holding onto NVDA, rather than buying aggressively, allows us to monitor market conditions and reassess our position without exposing ourselves to undue risk.\n",
      "\n",
      "In conclusion, while the potential for growth in NVDA is appealing, the risks associated with market volatility, economic uncertainty, and competitive pressures cannot be ignored. A conservative approach that emphasizes holding and carefully evaluating market conditions will ultimately protect our assets and ensure sustainable growth. It’s essential to prioritize stability over the allure of high-reward, high-risk strategies that could jeopardize our long-term financial health.\n",
      "\n",
      "============================================================\n",
      "Risk debate complete\n",
      "============================================================\n"
     ]
    }
   ],
   "source": [
    "print(\"Starting Risk Analysis Debate...\\n\")\n",
    "\n",
    "# Start with Risky Analyst\n",
    "current_speaker = \"risky\"\n",
    "risk_round = 0\n",
    "\n",
    "while risk_round < config[\"max_risk_discuss_rounds\"]:\n",
    "    risk_round += 1\n",
    "    print(f\"\\n{'='*60}\")\n",
    "    print(f\"RISK ROUND {risk_round}: {current_speaker.upper()} ANALYST\")\n",
    "    print(f\"{'='*60}\")\n",
    "    \n",
    "    state = executor.create_node_input(f\"{current_speaker}_analyst\")\n",
    "    \n",
    "    if current_speaker == \"risky\":\n",
    "        result = risky_analyst(state)\n",
    "        next_node = conditional_logic.should_continue_risk_analysis(result)\n",
    "    elif current_speaker == \"safe\":\n",
    "        result = safe_analyst(state)\n",
    "        next_node = conditional_logic.should_continue_risk_analysis(result)\n",
    "    else:  # neutral\n",
    "        result = neutral_analyst(state)\n",
    "        next_node = conditional_logic.should_continue_risk_analysis(result)\n",
    "    \n",
    "    executor.update_state(result)\n",
    "    \n",
    "    # Display response\n",
    "    current_state = executor.get_state()\n",
    "    risk_state = current_state['risk_debate_state']\n",
    "    \n",
    "    if current_speaker == \"risky\":\n",
    "        print(risk_state['current_risky_response'])\n",
    "    elif current_speaker == \"safe\":\n",
    "        print(risk_state['current_safe_response'])\n",
    "    else:\n",
    "        print(risk_state['current_neutral_response'])\n",
    "    \n",
    "    # Check if should continue debate\n",
    "    if next_node == \"Risk Judge\":\n",
    "        print(\"\\n→ Moving to Risk Judge\")\n",
    "        break\n",
    "    \n",
    "    # Rotate speakers: risky -> safe -> neutral -> risky\n",
    "    if current_speaker == \"risky\":\n",
    "        current_speaker = \"safe\"\n",
    "    elif current_speaker == \"safe\":\n",
    "        current_speaker = \"neutral\"\n",
    "    else:\n",
    "        current_speaker = \"risky\"\n",
    "\n",
    "print(f\"\\n{'='*60}\")\n",
    "print(\"Risk debate complete\")\n",
    "print(f\"{'='*60}\")"
   ]
  },
  {
   "cell_type": "markdown",
   "metadata": {},
   "source": [
    "## 12. Risk Manager Final Decision"
   ]
  },
  {
   "cell_type": "code",
   "execution_count": 15,
   "metadata": {},
   "outputs": [
    {
     "name": "stdout",
     "output_type": "stream",
     "text": [
      "Running Risk Manager (Portfolio Manager)...\n",
      "\n",
      "============================================================\n",
      "FINAL TRADE DECISION\n",
      "============================================================\n",
      "**Recommendation: Buy**\n",
      "\n",
      "---\n",
      "\n",
      "### **Summary of Key Arguments**\n",
      "\n",
      "**Risky Analyst:**\n",
      "- **Innovation Leadership:** NVDA is at the forefront of the AI and machine learning revolution, particularly highlighted by the recent launch of the R100 AI chip utilizing cutting-edge 3nm technology.\n",
      "- **Market Growth Potential:** The semiconductor industry is not just recovering but poised for a transformative boom, with NVDA positioned to capture significant market share and revenue growth.\n",
      "- **Favorable Macroeconomic Conditions:** Anticipated Federal Reserve rate cuts due to a cooling labor market could benefit growth stocks like NVDA by making borrowing cheaper and stimulating technology investments.\n",
      "- **Positive Market Sentiment:** High trading volumes and strong retail investor confidence indicate robust market interest and potential for substantial gains.\n",
      "\n",
      "**Safe/Conservative Analyst:**\n",
      "- **Market Volatility Risks:** The semiconductor sector is inherently volatile, with rapid technological advancements potentially leading to shifts in market dynamics and increased competition.\n",
      "- **Execution Challenges:** The launch of the R100 AI chip carries risks related to execution, including potential delays that could negatively impact investor sentiment and stock performance.\n",
      "- **Economic Uncertainty:** While lower interest rates can benefit growth stocks, they may also signal underlying economic weakness, potentially leading to reduced consumer spending and lower demand for NVDA’s products.\n",
      "- **Speculative Behavior Indicators:** High trading volumes and positive social media sentiment may reflect speculative behavior, increasing the risk of sharp price fluctuations and potential panic selling.\n",
      "- **Long-Term Stability Focus:** Emphasizes the importance of risk mitigation and stability over seeking high-reward, high-risk opportunities, advocating for a cautious approach to safeguard long-term financial health.\n",
      "\n",
      "### **Rationale**\n",
      "\n",
      "After evaluating the perspectives presented by both the **Risky** and **Safe/Conservative Analysts**, the **Buy** recommendation is supported by the following considerations:\n",
      "\n",
      "1. **Innovative Edge and Market Positioning:**\n",
      "   - *Risky Analyst* highlights NVDA’s leadership in AI with the R100 AI chip, positioning the company to capitalize on the burgeoning demand in AI and machine learning applications. This innovation is a critical driver for long-term growth.\n",
      "   - While the *Safe Analyst* acknowledges the potential of the R100 AI chip, concerns about execution challenges and market volatility are noted. However, the successful deployment of advanced technology can significantly enhance NVDA’s competitive advantage, outweighing these risks.\n",
      "\n",
      "2. **Favorable Macroeconomic Indicators:**\n",
      "   - The expectation of Federal Reserve rate cuts presents an opportunity for growth stocks like NVDA. Lower interest rates can reduce borrowing costs and encourage investment in technology sectors.\n",
      "   - Although the *Safe Analyst* points out that lower rates might indicate economic weakness, the proactive stance of NVDA in a high-growth industry can mitigate the impact of broader economic uncertainties.\n",
      "\n",
      "3. **Positive Market Sentiment and Trading Activity:**\n",
      "   - High trading volumes and strong retail investor interest suggest a robust demand for NVDA’s stock, potentially leading to upward price momentum.\n",
      "   - While speculative behavior is a concern raised by the *Safe Analyst*, the fundamental strengths of NVDA in a key growth sector provide a solid foundation that can sustain investor confidence beyond short-term market fluctuations.\n",
      "\n",
      "4. **Long-Term Growth Potential vs. Short-Term Risks:**\n",
      "   - The *Risky Analyst* emphasizes the long-term growth trajectory driven by NVDA’s innovative products and strategic market positioning.\n",
      "   - While short-term volatility and execution risks are valid concerns, the overarching growth potential and the company's ability to navigate competitive pressures support a Buy recommendation aimed at capitalizing on sustained upward trends.\n",
      "\n",
      "### **Conclusion**\n",
      "\n",
      "Balancing the enthusiastic growth prospects and innovative advancements presented by the **Risky Analyst** against the cautionary notes of the **Safe/Conservative Analyst**, the **Buy** recommendation for NVDA stands firm. The company's strategic positioning in the AI sector, coupled with favorable macroeconomic trends and strong market sentiment, presents a compelling case for investment. While acknowledging the inherent risks, the potential for significant long-term gains aligns with an optimistic investment strategy aimed at leveraging transformative industry developments.\n",
      "\n",
      "---\n",
      "============================================================\n"
     ]
    }
   ],
   "source": [
    "state = executor.create_node_input(\"risk_manager\")\n",
    "print(\"Running Risk Manager (Portfolio Manager)...\\n\")\n",
    "\n",
    "result = risk_manager(state)\n",
    "executor.update_state(result)\n",
    "\n",
    "current_state = executor.get_state()\n",
    "print(\"=\"*60)\n",
    "print(\"FINAL TRADE DECISION\")\n",
    "print(\"=\"*60)\n",
    "print(current_state.get('final_trade_decision', 'No decision generated'))\n",
    "print(\"=\"*60)"
   ]
  },
  {
   "cell_type": "markdown",
   "metadata": {},
   "source": [
    "## 13. Summary and Analysis"
   ]
  },
  {
   "cell_type": "code",
   "execution_count": 16,
   "metadata": {},
   "outputs": [
    {
     "name": "stdout",
     "output_type": "stream",
     "text": [
      "\n",
      "================================================================================\n",
      "COMPLETE TRADING ANALYSIS FOR NVDA ON 2024-05-10\n",
      "================================================================================\n",
      "\n",
      "📊 ANALYST REPORTS:\n",
      "  - Market Report: 0 chars\n",
      "  - Sentiment Report: 4753 chars\n",
      "  - News Report: 5124 chars\n",
      "  - Fundamentals Report: 3454 chars\n",
      "\n",
      "🎯 RESEARCH DEBATE:\n",
      "  - Debate Rounds: 0\n",
      "  - Bull Arguments: 0 chars\n",
      "  - Bear Arguments: 0 chars\n",
      "\n",
      "💼 INVESTMENT PLAN:\n",
      "  - Research Manager Plan: 781 chars\n",
      "  - Trader Plan: 1291 chars\n",
      "\n",
      "⚠️ RISK ANALYSIS:\n",
      "  - Risk Rounds: 2\n",
      "  - Risky Analysis: 2977 chars\n",
      "  - Safe Analysis: 2832 chars\n",
      "  - Neutral Analysis: 0 chars\n",
      "\n",
      "✅ FINAL DECISION:\n",
      "  **Recommendation: Buy**\n",
      "\n",
      "---\n",
      "\n",
      "### **Summary of Key Arguments**\n",
      "\n",
      "**Risky Analyst:**\n",
      "- **Innovation Leadership:** NVDA is at the forefront of the AI and machine learning revolution, particularly highlig...\n",
      "\n",
      "================================================================================\n"
     ]
    }
   ],
   "source": [
    "final_state = executor.get_state()\n",
    "\n",
    "print(f\"\\n{'='*80}\")\n",
    "print(f\"COMPLETE TRADING ANALYSIS FOR {TICKER} ON {DATE}\")\n",
    "print(f\"{'='*80}\\n\")\n",
    "\n",
    "print(\"📊 ANALYST REPORTS:\")\n",
    "print(f\"  - Market Report: {len(final_state.get('market_report', ''))} chars\")\n",
    "print(f\"  - Sentiment Report: {len(final_state.get('sentiment_report', ''))} chars\")\n",
    "print(f\"  - News Report: {len(final_state.get('news_report', ''))} chars\")\n",
    "print(f\"  - Fundamentals Report: {len(final_state.get('fundamentals_report', ''))} chars\")\n",
    "\n",
    "print(\"\\n🎯 RESEARCH DEBATE:\")\n",
    "debate_state = final_state.get('investment_debate_state', {})\n",
    "print(f\"  - Debate Rounds: {debate_state.get('count', 0)}\")\n",
    "print(f\"  - Bull Arguments: {len(debate_state.get('bull_history', ''))} chars\")\n",
    "print(f\"  - Bear Arguments: {len(debate_state.get('bear_history', ''))} chars\")\n",
    "\n",
    "print(\"\\n💼 INVESTMENT PLAN:\")\n",
    "print(f\"  - Research Manager Plan: {len(final_state.get('investment_plan', ''))} chars\")\n",
    "print(f\"  - Trader Plan: {len(final_state.get('trader_investment_plan', ''))} chars\")\n",
    "\n",
    "print(\"\\n⚠️ RISK ANALYSIS:\")\n",
    "risk_state = final_state.get('risk_debate_state', {})\n",
    "print(f\"  - Risk Rounds: {risk_state.get('count', 0)}\")\n",
    "print(f\"  - Risky Analysis: {len(risk_state.get('risky_history', ''))} chars\")\n",
    "print(f\"  - Safe Analysis: {len(risk_state.get('safe_history', ''))} chars\")\n",
    "print(f\"  - Neutral Analysis: {len(risk_state.get('neutral_history', ''))} chars\")\n",
    "\n",
    "print(\"\\n✅ FINAL DECISION:\")\n",
    "print(f\"  {final_state.get('final_trade_decision', 'No decision')[:200]}...\")\n",
    "\n",
    "print(f\"\\n{'='*80}\")"
   ]
  }
 ],
 "metadata": {
  "kernelspec": {
   "display_name": "Python 3 (ipykernel)",
   "language": "python",
   "name": "python3"
  },
  "language_info": {
   "codemirror_mode": {
    "name": "ipython",
    "version": 3
   },
   "file_extension": ".py",
   "mimetype": "text/x-python",
   "name": "python",
   "nbconvert_exporter": "python",
   "pygments_lexer": "ipython3",
   "version": "3.13.7"
  }
 },
 "nbformat": 4,
 "nbformat_minor": 4
}
